{
  "nbformat": 4,
  "nbformat_minor": 0,
  "metadata": {
    "colab": {
      "name": "MNISTdata.ipynb",
      "provenance": [],
      "authorship_tag": "ABX9TyOHo6l79Nvl+3WSqdfWlTei",
      "include_colab_link": true
    },
    "kernelspec": {
      "name": "python3",
      "display_name": "Python 3"
    }
  },
  "cells": [
    {
      "cell_type": "markdown",
      "metadata": {
        "id": "view-in-github",
        "colab_type": "text"
      },
      "source": [
        "<a href=\"https://colab.research.google.com/github/18K41A0288/mini-project-digit-Recognizer/blob/master/MNISTdata.ipynb\" target=\"_parent\"><img src=\"https://colab.research.google.com/assets/colab-badge.svg\" alt=\"Open In Colab\"/></a>"
      ]
    },
    {
      "cell_type": "code",
      "metadata": {
        "id": "bPKVwMSDGdpq"
      },
      "source": [
        "import tensorflow as tf\n",
        "import matplotlib.pyplot as plt\n",
        "import cv2\n",
        "import numpy as np"
      ],
      "execution_count": 18,
      "outputs": []
    },
    {
      "cell_type": "code",
      "metadata": {
        "id": "uqAie3UuGx6f"
      },
      "source": [
        "mnist = tf.keras.datasets.mnist\n",
        "(x_train,y_train),(x_test,y_test) = mnist.load_data()"
      ],
      "execution_count": 36,
      "outputs": []
    },
    {
      "cell_type": "code",
      "metadata": {
        "id": "fkngMeF_Gy_5",
        "outputId": "d452d4c3-883d-4be8-a52c-34cba99b9488",
        "colab": {
          "base_uri": "https://localhost:8080/",
          "height": 35
        }
      },
      "source": [
        "x_test.shape"
      ],
      "execution_count": 6,
      "outputs": [
        {
          "output_type": "execute_result",
          "data": {
            "text/plain": [
              "(10000, 28, 28)"
            ]
          },
          "metadata": {
            "tags": []
          },
          "execution_count": 6
        }
      ]
    },
    {
      "cell_type": "code",
      "metadata": {
        "id": "1XGfVNGyGzNq"
      },
      "source": [
        "x_train[600]"
      ],
      "execution_count": null,
      "outputs": []
    },
    {
      "cell_type": "code",
      "metadata": {
        "id": "v9uC3AwfGzLJ",
        "outputId": "b7463f33-ad4f-493d-b08e-daf53e2ac83e",
        "colab": {
          "base_uri": "https://localhost:8080/",
          "height": 35
        }
      },
      "source": [
        "x_train[34].shape"
      ],
      "execution_count": 8,
      "outputs": [
        {
          "output_type": "execute_result",
          "data": {
            "text/plain": [
              "(28, 28)"
            ]
          },
          "metadata": {
            "tags": []
          },
          "execution_count": 8
        }
      ]
    },
    {
      "cell_type": "code",
      "metadata": {
        "id": "uC9bV1I6GzIR",
        "outputId": "4c0abb2f-cebd-4dca-b1a6-8d866f1d05aa",
        "colab": {
          "base_uri": "https://localhost:8080/",
          "height": 265
        }
      },
      "source": [
        "plt.imshow(x_train[429],cmap='gray')\n",
        "plt.show()"
      ],
      "execution_count": 40,
      "outputs": [
        {
          "output_type": "display_data",
          "data": {
            "image/png": "[encoded data removed]",
            "text/plain": [
              "<Figure size 432x288 with 1 Axes>"
            ]
          },
          "metadata": {
            "tags": [],
            "needs_background": "light"
          }
        }
      ]
    },
    {
      "cell_type": "code",
      "metadata": {
        "id": "Hfc_B-TJGy9B",
        "outputId": "a16121af-b7a9-435f-f27a-85aed32d15cf",
        "colab": {
          "base_uri": "https://localhost:8080/",
          "height": 35
        }
      },
      "source": [
        "x_train[34].min()"
      ],
      "execution_count": 41,
      "outputs": [
        {
          "output_type": "execute_result",
          "data": {
            "text/plain": [
              "0"
            ]
          },
          "metadata": {
            "tags": []
          },
          "execution_count": 41
        }
      ]
    },
    {
      "cell_type": "code",
      "metadata": {
        "id": "zEk_T17rHgt_",
        "outputId": "12559f8f-ea6c-4f17-81bc-b46dbba281b8",
        "colab": {
          "base_uri": "https://localhost:8080/",
          "height": 35
        }
      },
      "source": [
        "x_train[34].max()"
      ],
      "execution_count": 42,
      "outputs": [
        {
          "output_type": "execute_result",
          "data": {
            "text/plain": [
              "255"
            ]
          },
          "metadata": {
            "tags": []
          },
          "execution_count": 42
        }
      ]
    },
    {
      "cell_type": "code",
      "metadata": {
        "id": "OAcBRB7IHmDG"
      },
      "source": [
        "model = tf.keras.models.Sequential()\n",
        "model.add(tf.keras.layers.Flatten())\n",
        "model.add(tf.keras.layers.Dense(512,activation ='relu'))\n",
        "model.add(tf.keras.layers.Dense(10,activation='softmax'))\n",
        "model.compile(optimizer='adam',loss = 'sparse_categorical_crossentropy',metrics = 'accuracy')"
      ],
      "execution_count": 43,
      "outputs": []
    },
    {
      "cell_type": "code",
      "metadata": {
        "id": "lynodloOHl_X",
        "outputId": "515b9761-e535-4d43-be0d-aaa3639d5750",
        "colab": {
          "base_uri": "https://localhost:8080/",
          "height": 191
        }
      },
      "source": [
        "history = model.fit(x_train,y_train,epochs = 5)"
      ],
      "execution_count": 44,
      "outputs": [
        {
          "output_type": "stream",
          "text": [
            "Epoch 1/5\n",
            "1875/1875 [==============================] - 7s 4ms/step - loss: 2.5928 - accuracy: 0.9089\n",
            "Epoch 2/5\n",
            "1875/1875 [==============================] - 7s 4ms/step - loss: 0.3187 - accuracy: 0.9405\n",
            "Epoch 3/5\n",
            "1875/1875 [==============================] - 7s 4ms/step - loss: 0.2848 - accuracy: 0.9419\n",
            "Epoch 4/5\n",
            "1875/1875 [==============================] - 7s 4ms/step - loss: 0.2823 - accuracy: 0.9444\n",
            "Epoch 5/5\n",
            "1875/1875 [==============================] - 7s 4ms/step - loss: 0.2441 - accuracy: 0.9510\n"
          ],
          "name": "stdout"
        }
      ]
    },
    {
      "cell_type": "code",
      "metadata": {
        "id": "esyOki--Hgqk",
        "outputId": "bd15921c-e5ff-45bb-e9bb-58cd28d81d67",
        "colab": {
          "base_uri": "https://localhost:8080/",
          "height": 35
        }
      },
      "source": [
        "y_pred = model.predict_classes(x_test)\n",
        "y_pred"
      ],
      "execution_count": 45,
      "outputs": [
        {
          "output_type": "execute_result",
          "data": {
            "text/plain": [
              "array([7, 2, 1, ..., 4, 5, 6])"
            ]
          },
          "metadata": {
            "tags": []
          },
          "execution_count": 45
        }
      ]
    },
    {
      "cell_type": "code",
      "metadata": {
        "id": "kFY8R0saHzHK",
        "outputId": "c17244cd-6e65-4ec7-90a7-94ede5656476",
        "colab": {
          "base_uri": "https://localhost:8080/",
          "height": 35
        }
      },
      "source": [
        "y_pred[0]"
      ],
      "execution_count": 46,
      "outputs": [
        {
          "output_type": "execute_result",
          "data": {
            "text/plain": [
              "7"
            ]
          },
          "metadata": {
            "tags": []
          },
          "execution_count": 46
        }
      ]
    },
    {
      "cell_type": "code",
      "metadata": {
        "id": "qGIW2PV-HzOE",
        "outputId": "f0307b97-94f1-4083-838d-9353c3832197",
        "colab": {
          "base_uri": "https://localhost:8080/",
          "height": 35
        }
      },
      "source": [
        "np.argmax(y_pred[0])"
      ],
      "execution_count": 47,
      "outputs": [
        {
          "output_type": "execute_result",
          "data": {
            "text/plain": [
              "0"
            ]
          },
          "metadata": {
            "tags": []
          },
          "execution_count": 47
        }
      ]
    },
    {
      "cell_type": "code",
      "metadata": {
        "id": "jfCvBlM0HzC1",
        "outputId": "3a3cc41d-5037-4b75-bfdc-718c2bdc194d",
        "colab": {
          "base_uri": "https://localhost:8080/",
          "height": 35
        }
      },
      "source": [
        "np.argmax(model.predict(x_test), axis=-1)"
      ],
      "execution_count": 48,
      "outputs": [
        {
          "output_type": "execute_result",
          "data": {
            "text/plain": [
              "array([7, 2, 1, ..., 4, 5, 6])"
            ]
          },
          "metadata": {
            "tags": []
          },
          "execution_count": 48
        }
      ]
    },
    {
      "cell_type": "code",
      "metadata": {
        "id": "ecWfUbtIIQ4K",
        "outputId": "705994f6-7946-4019-ce51-dc094122e91c",
        "colab": {
          "base_uri": "https://localhost:8080/",
          "height": 35
        }
      },
      "source": [
        "from sklearn.metrics import accuracy_score,confusion_matrix\n",
        "accuracy_score(y_pred,y_test)"
      ],
      "execution_count": 49,
      "outputs": [
        {
          "output_type": "execute_result",
          "data": {
            "text/plain": [
              "0.9502"
            ]
          },
          "metadata": {
            "tags": []
          },
          "execution_count": 49
        }
      ]
    },
    {
      "cell_type": "code",
      "metadata": {
        "id": "5gkNAg9ZIRBa",
        "outputId": "5dfd9dc5-cb85-4b05-dbc8-035b9b0e9d1c",
        "colab": {
          "base_uri": "https://localhost:8080/",
          "height": 191
        }
      },
      "source": [
        "confusion_matrix(y_pred,y_test)"
      ],
      "execution_count": 50,
      "outputs": [
        {
          "output_type": "execute_result",
          "data": {
            "text/plain": [
              "array([[ 951,    0,    2,    3,    1,    4,    5,    3,    5,    1],\n",
              "       [   0, 1123,    4,    3,    2,    2,    5,    7,    1,    4],\n",
              "       [   4,    1,  982,   11,    3,    1,    1,   18,    5,    1],\n",
              "       [   1,    2,    4,  949,    0,   22,    0,    2,    2,   18],\n",
              "       [   0,    0,    0,    0,  934,    2,    0,    6,    5,   36],\n",
              "       [   1,    1,    0,   15,    0,  814,    5,    1,    4,    5],\n",
              "       [  10,    3,    4,    0,   15,   16,  934,    0,    3,    4],\n",
              "       [   3,    0,   21,   15,    3,    3,    1,  972,    5,   13],\n",
              "       [   9,    4,   15,   10,    9,   25,    7,    3,  941,   25],\n",
              "       [   1,    1,    0,    4,   15,    3,    0,   16,    3,  902]])"
            ]
          },
          "metadata": {
            "tags": []
          },
          "execution_count": 50
        }
      ]
    },
    {
      "cell_type": "code",
      "metadata": {
        "id": "wz2ASfC9IRFS",
        "outputId": "ae0f25c4-1ecd-4b7a-9a4e-0c47c6e085b3",
        "colab": {
          "base_uri": "https://localhost:8080/",
          "height": 283
        }
      },
      "source": [
        "plt.plot(history.history['accuracy'])"
      ],
      "execution_count": 51,
      "outputs": [
        {
          "output_type": "execute_result",
          "data": {
            "text/plain": [
              "[<matplotlib.lines.Line2D at 0x7f6576b054a8>]"
            ]
          },
          "metadata": {
            "tags": []
          },
          "execution_count": 51
        },
        {
          "output_type": "display_data",
          "data": {
            "image/png": "[encoded data removed]",
            "text/plain": [
              "<Figure size 432x288 with 1 Axes>"
            ]
          },
          "metadata": {
            "tags": [],
            "needs_background": "light"
          }
        }
      ]
    },
    {
      "cell_type": "code",
      "metadata": {
        "id": "q5zqUWxvIQ8u",
        "outputId": "24c9702c-617a-4e1b-c7ca-aff185051fa9",
        "colab": {
          "base_uri": "https://localhost:8080/",
          "height": 1000
        }
      },
      "source": [
        "model.get_weights()"
      ],
      "execution_count": 52,
      "outputs": [
        {
          "output_type": "execute_result",
          "data": {
            "text/plain": [
              "[array([[-0.05434738, -0.00976722, -0.05510453, ..., -0.05750466,\n",
              "         -0.00786541,  0.0489751 ],\n",
              "        [ 0.02924469,  0.02845606,  0.0158584 , ...,  0.02125678,\n",
              "          0.02397805, -0.00136   ],\n",
              "        [ 0.02447025,  0.05759892, -0.06038276, ..., -0.04820761,\n",
              "         -0.02809813,  0.04567616],\n",
              "        ...,\n",
              "        [-0.03939687,  0.01289061, -0.05538535, ..., -0.0499097 ,\n",
              "          0.06464753, -0.05160552],\n",
              "        [-0.04284858, -0.04201382, -0.0500163 , ...,  0.00687616,\n",
              "         -0.02401638, -0.05979956],\n",
              "        [-0.02450695,  0.04811991,  0.00210926, ..., -0.06127512,\n",
              "          0.03965271, -0.04024168]], dtype=float32),\n",
              " array([-0.03921641, -0.03392365, -0.03078187, -0.02971831, -0.0229016 ,\n",
              "        -0.01333355, -0.03651479, -0.02886007, -0.03854549, -0.02960559,\n",
              "        -0.02400943, -0.07773003, -0.04452162, -0.03554706, -0.00819388,\n",
              "        -0.0489267 , -0.03717421, -0.07120476, -0.01884459, -0.05544123,\n",
              "        -0.05293234, -0.02205535, -0.02318401, -0.04815435, -0.04120606,\n",
              "        -0.02942518, -0.04580649, -0.02031139, -0.04588519, -0.04538985,\n",
              "        -0.03478172, -0.08095902, -0.0293861 , -0.05093981, -0.02082498,\n",
              "        -0.0548504 , -0.02528271, -0.01812819, -0.02192243, -0.0354495 ,\n",
              "        -0.02981579, -0.02805164, -0.07096693, -0.07315824, -0.01024708,\n",
              "        -0.05805522, -0.03620954, -0.01359244, -0.03255968, -0.04341004,\n",
              "        -0.02309702, -0.06955148, -0.03101481, -0.05503957, -0.04790212,\n",
              "        -0.02192136, -0.03645587, -0.0253288 , -0.0533045 , -0.0293559 ,\n",
              "        -0.01482055, -0.03260305, -0.01018464, -0.05093169, -0.01604967,\n",
              "        -0.04195323, -0.03620888, -0.03654099, -0.04429003, -0.02109586,\n",
              "        -0.06055901, -0.04379968, -0.01854828, -0.04612187, -0.02028095,\n",
              "        -0.04533903, -0.04460422, -0.00688569, -0.05265119, -0.05812827,\n",
              "        -0.06550643, -0.05088417, -0.05796652, -0.03838892, -0.0736214 ,\n",
              "        -0.02744131, -0.02363038, -0.0356449 , -0.02718424, -0.02915511,\n",
              "        -0.05641992, -0.08997961, -0.05639489, -0.02761767, -0.03252433,\n",
              "        -0.07299419, -0.0363464 , -0.04430818, -0.01448393, -0.05074009,\n",
              "        -0.04660848, -0.02108873, -0.10196713, -0.04909552, -0.01815397,\n",
              "        -0.02070254, -0.0471238 , -0.03126528, -0.03884622, -0.02109726,\n",
              "        -0.01602856, -0.05491271, -0.03053004, -0.02434905, -0.04982853,\n",
              "        -0.04469586, -0.02122634, -0.01797392, -0.04622517, -0.06456325,\n",
              "        -0.02860563, -0.03581261, -0.0324279 , -0.03130011, -0.02596389,\n",
              "        -0.03231717, -0.04869546, -0.01273186, -0.0510973 , -0.0584921 ,\n",
              "        -0.01236561, -0.03659078, -0.02018548, -0.04231614, -0.01070026,\n",
              "        -0.0467099 , -0.07855839, -0.0422437 , -0.01623212, -0.03504076,\n",
              "        -0.05483523, -0.01839187, -0.02751784, -0.00812095, -0.02399553,\n",
              "        -0.0521436 , -0.03473582, -0.03735488, -0.04837808, -0.02113837,\n",
              "        -0.04424509, -0.05238183, -0.06444695, -0.02280623, -0.02116892,\n",
              "        -0.02056955, -0.03545751, -0.05240191, -0.02755483, -0.04183165,\n",
              "        -0.04703694, -0.03561638, -0.01914471, -0.03356425, -0.01160143,\n",
              "        -0.0264983 , -0.04630486, -0.0257393 , -0.03576127, -0.01659795,\n",
              "        -0.02816099, -0.02354034, -0.03875668, -0.03460949, -0.00277418,\n",
              "        -0.03127745, -0.0308498 , -0.04270077, -0.02840693,  0.0232639 ,\n",
              "        -0.04636108, -0.01991276, -0.04907699, -0.04011008, -0.04784248,\n",
              "        -0.02172664, -0.03357003, -0.03515236, -0.05088744, -0.00351901,\n",
              "        -0.07515011, -0.05592325, -0.05649561, -0.08225527, -0.03640338,\n",
              "        -0.01381797, -0.02268924, -0.05000656, -0.06666823, -0.02607971,\n",
              "        -0.03383906, -0.0160438 , -0.05320244, -0.04051799, -0.03715481,\n",
              "        -0.01938125, -0.02523203, -0.02108941, -0.02670477, -0.00538639,\n",
              "        -0.06880105, -0.01607752, -0.03912158, -0.0341448 , -0.01583425,\n",
              "        -0.01688042, -0.0133243 , -0.03852974, -0.03495399, -0.0245832 ,\n",
              "        -0.02254443, -0.04553585, -0.02784725, -0.05166326, -0.03709638,\n",
              "        -0.07164984, -0.01806535, -0.00669003, -0.04582296, -0.04011845,\n",
              "        -0.0356641 , -0.01156845, -0.10580656, -0.01863886, -0.05431612,\n",
              "        -0.02366592, -0.04894896, -0.03621546, -0.03662813, -0.02904541,\n",
              "        -0.02288708, -0.04743391, -0.02304146, -0.05296891, -0.02571079,\n",
              "        -0.02717808, -0.02922566, -0.02632871, -0.04444088, -0.0268801 ,\n",
              "        -0.0053254 , -0.01790893, -0.01146212, -0.03127578, -0.04185144,\n",
              "        -0.02461584, -0.05439596, -0.01641536, -0.03855591, -0.05458   ,\n",
              "        -0.04074642, -0.02570141, -0.02300864, -0.02928663, -0.02751981,\n",
              "        -0.03151277, -0.03056799, -0.04067719, -0.06328196, -0.04519355,\n",
              "        -0.03153577, -0.04792963, -0.01848354, -0.01529512, -0.01709196,\n",
              "        -0.03802555, -0.03451869, -0.02481258, -0.0449932 , -0.02597918,\n",
              "        -0.01588281, -0.02352841,  0.01904071, -0.03520512, -0.03880736,\n",
              "        -0.03305584, -0.05178876, -0.01916969, -0.06434529, -0.03336193,\n",
              "        -0.02757924, -0.03131451, -0.05477196, -0.04753535, -0.03771927,\n",
              "        -0.05033131, -0.02363815, -0.02652356, -0.02260595, -0.01219269,\n",
              "        -0.05725399, -0.03677728, -0.02171111, -0.10847326, -0.0567308 ,\n",
              "        -0.05250859, -0.10162143, -0.01565599, -0.01360674, -0.05061982,\n",
              "        -0.04517892, -0.0675185 , -0.04553058, -0.0419535 , -0.02964063,\n",
              "        -0.02602845, -0.04551864, -0.0119096 , -0.05154154, -0.06450725,\n",
              "        -0.05119293, -0.03275191, -0.05933354, -0.0325346 , -0.01573087,\n",
              "        -0.09969429, -0.0559676 , -0.03261752, -0.04781663, -0.02415554,\n",
              "        -0.04117034, -0.04688601, -0.03005807, -0.01792935, -0.01890882,\n",
              "        -0.04345353, -0.05534264, -0.02494242, -0.02134233, -0.03030426,\n",
              "        -0.06485065, -0.02428317, -0.06470756, -0.04121268, -0.04096949,\n",
              "        -0.03621841, -0.03087696, -0.02325352, -0.04849114, -0.04090714,\n",
              "        -0.01805832, -0.03430084, -0.05607529, -0.02993569, -0.01109764,\n",
              "        -0.0576945 , -0.04219354, -0.05165073, -0.02899842, -0.02442219,\n",
              "        -0.01241077, -0.05292211, -0.04256155, -0.04725673, -0.03700026,\n",
              "        -0.03699809, -0.06126648, -0.04212818, -0.01749577, -0.04851764,\n",
              "        -0.01494466, -0.01895831, -0.01434452, -0.07751994, -0.05227509,\n",
              "        -0.02678893, -0.06233376, -0.03113622, -0.03502365, -0.03747355,\n",
              "        -0.02999615, -0.0574662 , -0.02691741, -0.01678203, -0.01695973,\n",
              "        -0.05733048, -0.02462199, -0.04999961, -0.08405504, -0.015174  ,\n",
              "        -0.02662989, -0.05539158, -0.02627553, -0.02404154, -0.01715342,\n",
              "         0.00294495, -0.08691995, -0.0269925 , -0.02557955, -0.04598036,\n",
              "        -0.04605921, -0.0088051 , -0.0301873 , -0.04857996, -0.03499446,\n",
              "        -0.0626362 , -0.03827792, -0.05294166, -0.03943695, -0.01481566,\n",
              "        -0.04849198, -0.04150219, -0.07165211, -0.01147059, -0.01171709,\n",
              "        -0.01748071, -0.02493071, -0.05152118, -0.05871356, -0.03789005,\n",
              "        -0.03296542, -0.03545574, -0.02713445, -0.02059412, -0.02557246,\n",
              "        -0.03502942, -0.06613025,  0.01717024, -0.04618889, -0.0268961 ,\n",
              "        -0.01901148, -0.04251441, -0.01837292, -0.03462064, -0.05158177,\n",
              "        -0.05511043, -0.02950064, -0.0272175 , -0.07933089, -0.05122413,\n",
              "        -0.0202953 , -0.00658318, -0.02902297, -0.04613461, -0.02785734,\n",
              "        -0.01720765, -0.02035267, -0.01751879, -0.02849183, -0.02796862,\n",
              "        -0.02873626, -0.04002528, -0.06049268, -0.02025819, -0.01458788,\n",
              "        -0.04791773, -0.03749453, -0.04527551, -0.02620095, -0.04996027,\n",
              "        -0.03192273, -0.00089455, -0.03692698, -0.073071  , -0.04284775,\n",
              "        -0.0317982 , -0.04590376, -0.00427396, -0.06738707, -0.02929439,\n",
              "        -0.04310567, -0.04103763, -0.08077253, -0.02914326, -0.02158704,\n",
              "        -0.01624587, -0.04789061, -0.00610306, -0.03038257, -0.07164511,\n",
              "        -0.05260996, -0.01958802, -0.04307292, -0.03506257, -0.02574614,\n",
              "        -0.04870625, -0.0389871 , -0.02049854, -0.0471404 , -0.0331221 ,\n",
              "        -0.01829109, -0.02156386, -0.02942115, -0.05053809, -0.02535685,\n",
              "        -0.03400493, -0.06801212, -0.03018922, -0.03755644, -0.0482081 ,\n",
              "        -0.00713276, -0.0200727 , -0.04078208, -0.02549526, -0.04555512,\n",
              "        -0.03602735, -0.01549743, -0.04189703, -0.02610807, -0.02734247,\n",
              "        -0.04538445, -0.06816779], dtype=float32),\n",
              " array([[ 0.08179353,  0.03362807,  0.00069562, ...,  0.03058671,\n",
              "          0.02991325, -0.00366753],\n",
              "        [ 0.0320379 ,  0.05308168, -0.06637116, ..., -0.05638343,\n",
              "          0.05871371,  0.07954764],\n",
              "        [ 0.06787034,  0.00037788,  0.05698281, ...,  0.02077586,\n",
              "         -0.0197136 , -0.01767059],\n",
              "        ...,\n",
              "        [-0.01285759,  0.01037059,  0.03305782, ..., -0.07722866,\n",
              "          0.09491543, -0.06970105],\n",
              "        [ 0.06523675,  0.04868316,  0.05113576, ..., -0.0780846 ,\n",
              "         -0.01019243, -0.09010873],\n",
              "        [ 0.07859676,  0.00392455,  0.03085327, ...,  0.03853615,\n",
              "         -0.05903631,  0.01624239]], dtype=float32),\n",
              " array([ 0.42435125, -0.22067855, -0.24700662, -0.21901506, -0.04076645,\n",
              "        -0.35628292, -0.08938392, -0.24358808,  0.7619116 ,  0.09771752],\n",
              "       dtype=float32)]"
            ]
          },
          "metadata": {
            "tags": []
          },
          "execution_count": 52
        }
      ]
    },
    {
      "cell_type": "code",
      "metadata": {
        "id": "fvTz4bKwIQ6q"
      },
      "source": [
        "model.save('model.h5')"
      ],
      "execution_count": 53,
      "outputs": []
    },
    {
      "cell_type": "code",
      "metadata": {
        "id": "WIz6cAEzFlKT"
      },
      "source": [
        "mnist = tf.keras.datasets.mnist\n",
        "(x_train,y_train),(x_test,y_test) = mnist.load_data()\n",
        "new = tf.keras.models.load_model('model.h5')"
      ],
      "execution_count": 54,
      "outputs": []
    },
    {
      "cell_type": "code",
      "metadata": {
        "id": "OkTtMPEeF2qw",
        "outputId": "e0ceefa8-5bf0-4270-ea4b-43e455ef21d5",
        "colab": {
          "base_uri": "https://localhost:8080/",
          "height": 283
        }
      },
      "source": [
        "image = x_test[1]\n",
        "plt.imshow(image,cmap='gray')"
      ],
      "execution_count": 59,
      "outputs": [
        {
          "output_type": "execute_result",
          "data": {
            "text/plain": [
              "<matplotlib.image.AxesImage at 0x7f65761fefd0>"
            ]
          },
          "metadata": {
            "tags": []
          },
          "execution_count": 59
        },
        {
          "output_type": "display_data",
          "data": {
            "image/png": "[encoded data removed]",
            "text/plain": [
              "<Figure size 432x288 with 1 Axes>"
            ]
          },
          "metadata": {
            "tags": [],
            "needs_background": "light"
          }
        }
      ]
    },
    {
      "cell_type": "code",
      "metadata": {
        "id": "BlqRNVdEGAdV"
      },
      "source": [
        "image_resize = cv2.resize(image,(28,28)).reshape(1,28,28)"
      ],
      "execution_count": 56,
      "outputs": []
    },
    {
      "cell_type": "code",
      "metadata": {
        "id": "oELp1DxwGAZz",
        "outputId": "dab28f73-a96c-450f-82b1-3bbfe9b54327",
        "colab": {
          "base_uri": "https://localhost:8080/",
          "height": 35
        }
      },
      "source": [
        "new.predict_classes(image_resize)"
      ],
      "execution_count": 57,
      "outputs": [
        {
          "output_type": "execute_result",
          "data": {
            "text/plain": [
              "array([2])"
            ]
          },
          "metadata": {
            "tags": []
          },
          "execution_count": 57
        }
      ]
    }
  ]
}